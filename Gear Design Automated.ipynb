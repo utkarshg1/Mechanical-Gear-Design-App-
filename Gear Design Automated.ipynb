{
 "cells": [
  {
   "cell_type": "markdown",
   "id": "b33729f0",
   "metadata": {},
   "source": [
    "# Gear Design"
   ]
  },
  {
   "cell_type": "markdown",
   "id": "859d4e99",
   "metadata": {},
   "source": [
    "### Note this is for design of 20 degree full depth gear only"
   ]
  },
  {
   "cell_type": "markdown",
   "id": "6b86a6e0",
   "metadata": {},
   "source": [
    "#### User Input "
   ]
  },
  {
   "cell_type": "code",
   "execution_count": 23,
   "id": "2674f1cb",
   "metadata": {},
   "outputs": [],
   "source": [
    "P = 20*(10**3) #Power in W\n",
    "Np = 3000 #Pinion rotation speed in RPM(Revolutions Per Minute)\n",
    "i = 2 #Gear ratio\n",
    "Sut = 600 #Ultimate Tensitle Strength of gear in N/mm^2\n",
    "Ep = 200*(10**3)#Youngs Modulus of Pinion in MPa\n",
    "Eg = 200*(10**3)#Youngs Modulus of Gear in MPa\n",
    "Grade = 5 #Gear Grade (Accuracy of gear made)\n",
    "Cs = 2 #Service Factor\n",
    "fs = 2 #Factor of Safety"
   ]
  },
  {
   "cell_type": "markdown",
   "id": "f89c5f3c",
   "metadata": {},
   "source": [
    "#### Assumption"
   ]
  },
  {
   "cell_type": "code",
   "execution_count": 24,
   "id": "e51de8b7",
   "metadata": {},
   "outputs": [],
   "source": [
    "zp = 18 #Minimum number of Teeth for Pinion Assumed\n",
    "zg = i*zp #Number of teeth on Gear based on Gear ratio"
   ]
  },
  {
   "cell_type": "markdown",
   "id": "4853e8aa",
   "metadata": {},
   "source": [
    "#### Lewis form factor Data"
   ]
  },
  {
   "cell_type": "code",
   "execution_count": 25,
   "id": "b46afdba",
   "metadata": {},
   "outputs": [],
   "source": [
    "import pandas as pd\n",
    "Lewis_path = \"D:/Gear Design Project Data/Lewis Form Factor.csv\"\n",
    "L = pd.read_csv(Lewis_path)"
   ]
  },
  {
   "cell_type": "code",
   "execution_count": 26,
   "id": "dc87ff65",
   "metadata": {},
   "outputs": [
    {
     "data": {
      "text/html": [
       "<div>\n",
       "<style scoped>\n",
       "    .dataframe tbody tr th:only-of-type {\n",
       "        vertical-align: middle;\n",
       "    }\n",
       "\n",
       "    .dataframe tbody tr th {\n",
       "        vertical-align: top;\n",
       "    }\n",
       "\n",
       "    .dataframe thead th {\n",
       "        text-align: right;\n",
       "    }\n",
       "</style>\n",
       "<table border=\"1\" class=\"dataframe\">\n",
       "  <thead>\n",
       "    <tr style=\"text-align: right;\">\n",
       "      <th></th>\n",
       "      <th>Z</th>\n",
       "      <th>Y</th>\n",
       "    </tr>\n",
       "  </thead>\n",
       "  <tbody>\n",
       "    <tr>\n",
       "      <th>0</th>\n",
       "      <td>12</td>\n",
       "      <td>0.245</td>\n",
       "    </tr>\n",
       "    <tr>\n",
       "      <th>1</th>\n",
       "      <td>13</td>\n",
       "      <td>0.261</td>\n",
       "    </tr>\n",
       "    <tr>\n",
       "      <th>2</th>\n",
       "      <td>14</td>\n",
       "      <td>0.277</td>\n",
       "    </tr>\n",
       "    <tr>\n",
       "      <th>3</th>\n",
       "      <td>15</td>\n",
       "      <td>0.290</td>\n",
       "    </tr>\n",
       "    <tr>\n",
       "      <th>4</th>\n",
       "      <td>16</td>\n",
       "      <td>0.296</td>\n",
       "    </tr>\n",
       "    <tr>\n",
       "      <th>5</th>\n",
       "      <td>17</td>\n",
       "      <td>0.303</td>\n",
       "    </tr>\n",
       "    <tr>\n",
       "      <th>6</th>\n",
       "      <td>18</td>\n",
       "      <td>0.309</td>\n",
       "    </tr>\n",
       "    <tr>\n",
       "      <th>7</th>\n",
       "      <td>19</td>\n",
       "      <td>0.314</td>\n",
       "    </tr>\n",
       "    <tr>\n",
       "      <th>8</th>\n",
       "      <td>20</td>\n",
       "      <td>0.322</td>\n",
       "    </tr>\n",
       "    <tr>\n",
       "      <th>9</th>\n",
       "      <td>21</td>\n",
       "      <td>0.328</td>\n",
       "    </tr>\n",
       "    <tr>\n",
       "      <th>10</th>\n",
       "      <td>22</td>\n",
       "      <td>0.331</td>\n",
       "    </tr>\n",
       "    <tr>\n",
       "      <th>11</th>\n",
       "      <td>24</td>\n",
       "      <td>0.337</td>\n",
       "    </tr>\n",
       "    <tr>\n",
       "      <th>12</th>\n",
       "      <td>26</td>\n",
       "      <td>0.346</td>\n",
       "    </tr>\n",
       "    <tr>\n",
       "      <th>13</th>\n",
       "      <td>28</td>\n",
       "      <td>0.353</td>\n",
       "    </tr>\n",
       "    <tr>\n",
       "      <th>14</th>\n",
       "      <td>30</td>\n",
       "      <td>0.359</td>\n",
       "    </tr>\n",
       "    <tr>\n",
       "      <th>15</th>\n",
       "      <td>34</td>\n",
       "      <td>0.371</td>\n",
       "    </tr>\n",
       "    <tr>\n",
       "      <th>16</th>\n",
       "      <td>38</td>\n",
       "      <td>0.384</td>\n",
       "    </tr>\n",
       "    <tr>\n",
       "      <th>17</th>\n",
       "      <td>43</td>\n",
       "      <td>0.397</td>\n",
       "    </tr>\n",
       "    <tr>\n",
       "      <th>18</th>\n",
       "      <td>50</td>\n",
       "      <td>0.409</td>\n",
       "    </tr>\n",
       "    <tr>\n",
       "      <th>19</th>\n",
       "      <td>60</td>\n",
       "      <td>0.422</td>\n",
       "    </tr>\n",
       "    <tr>\n",
       "      <th>20</th>\n",
       "      <td>75</td>\n",
       "      <td>0.435</td>\n",
       "    </tr>\n",
       "    <tr>\n",
       "      <th>21</th>\n",
       "      <td>100</td>\n",
       "      <td>0.447</td>\n",
       "    </tr>\n",
       "    <tr>\n",
       "      <th>22</th>\n",
       "      <td>150</td>\n",
       "      <td>0.460</td>\n",
       "    </tr>\n",
       "    <tr>\n",
       "      <th>23</th>\n",
       "      <td>300</td>\n",
       "      <td>0.472</td>\n",
       "    </tr>\n",
       "    <tr>\n",
       "      <th>24</th>\n",
       "      <td>400</td>\n",
       "      <td>0.480</td>\n",
       "    </tr>\n",
       "    <tr>\n",
       "      <th>25</th>\n",
       "      <td>Rack</td>\n",
       "      <td>0.485</td>\n",
       "    </tr>\n",
       "  </tbody>\n",
       "</table>\n",
       "</div>"
      ],
      "text/plain": [
       "       Z      Y\n",
       "0     12  0.245\n",
       "1     13  0.261\n",
       "2     14  0.277\n",
       "3     15  0.290\n",
       "4     16  0.296\n",
       "5     17  0.303\n",
       "6     18  0.309\n",
       "7     19  0.314\n",
       "8     20  0.322\n",
       "9     21  0.328\n",
       "10    22  0.331\n",
       "11    24  0.337\n",
       "12    26  0.346\n",
       "13    28  0.353\n",
       "14    30  0.359\n",
       "15    34  0.371\n",
       "16    38  0.384\n",
       "17    43  0.397\n",
       "18    50  0.409\n",
       "19    60  0.422\n",
       "20    75  0.435\n",
       "21   100  0.447\n",
       "22   150  0.460\n",
       "23   300  0.472\n",
       "24   400  0.480\n",
       "25  Rack  0.485"
      ]
     },
     "execution_count": 26,
     "metadata": {},
     "output_type": "execute_result"
    }
   ],
   "source": [
    "L"
   ]
  },
  {
   "cell_type": "markdown",
   "id": "c9d63466",
   "metadata": {},
   "source": [
    "#### Getting Lewis form factor for pinion from above table"
   ]
  },
  {
   "cell_type": "code",
   "execution_count": 27,
   "id": "5c5735bf",
   "metadata": {},
   "outputs": [
    {
     "data": {
      "text/plain": [
       "0.309"
      ]
     },
     "execution_count": 27,
     "metadata": {},
     "output_type": "execute_result"
    }
   ],
   "source": [
    "Y = float(L[L.Z ==str(zp)][\"Y\"])\n",
    "Y"
   ]
  },
  {
   "cell_type": "markdown",
   "id": "671ea52e",
   "metadata": {},
   "source": [
    "#### Defining Lewis Equation"
   ]
  },
  {
   "cell_type": "code",
   "execution_count": 28,
   "id": "2717b72f",
   "metadata": {},
   "outputs": [],
   "source": [
    "from sympy import pi, diff, lambdify, symbols\n",
    "m = symbols('m',real = True)\n",
    "dp = m*zp\n",
    "v = pi*m*zp*Np/60000\n",
    "Cv = 3/(3+v) #Change if velocity is higher\n",
    "L = (P/v)*(Cs/Cv)*fs\n",
    "b = 10*m\n",
    "sigmab = Sut/3\n",
    "R = m*b*sigmab*Y\n",
    "f = L-R\n",
    "f_dm = diff(f,m)"
   ]
  },
  {
   "cell_type": "code",
   "execution_count": 29,
   "id": "0db754b8",
   "metadata": {},
   "outputs": [
    {
     "data": {
      "text/latex": [
       "$\\displaystyle - 618.0 m^{2} + \\frac{400000 \\left(\\frac{3 \\pi m}{5} + 2\\right)}{9 \\pi m}$"
      ],
      "text/plain": [
       "-618.0*m**2 + 400000*(3*pi*m/5 + 2)/(9*pi*m)"
      ]
     },
     "execution_count": 29,
     "metadata": {},
     "output_type": "execute_result"
    }
   ],
   "source": [
    "f"
   ]
  },
  {
   "cell_type": "code",
   "execution_count": 30,
   "id": "a9252af3",
   "metadata": {},
   "outputs": [
    {
     "data": {
      "text/latex": [
       "$\\displaystyle - 1236.0 m + \\frac{80000}{3 m} - \\frac{400000 \\left(\\frac{3 \\pi m}{5} + 2\\right)}{9 \\pi m^{2}}$"
      ],
      "text/plain": [
       "-1236.0*m + 80000/(3*m) - 400000*(3*pi*m/5 + 2)/(9*pi*m**2)"
      ]
     },
     "execution_count": 30,
     "metadata": {},
     "output_type": "execute_result"
    }
   ],
   "source": [
    "f_dm"
   ]
  },
  {
   "cell_type": "code",
   "execution_count": 31,
   "id": "af694c27",
   "metadata": {},
   "outputs": [],
   "source": [
    "f_l = lambdify(m,f,'numpy')\n",
    "f_dm_l = lambdify(m,f_dm,'numpy')\n",
    "v_l = lambdify(m,v,'numpy')"
   ]
  },
  {
   "cell_type": "markdown",
   "id": "5cb6f484",
   "metadata": {},
   "source": [
    "#### Define Function to calculate module for given Initial guess using Newton Rhapson Method"
   ]
  },
  {
   "cell_type": "code",
   "execution_count": 32,
   "id": "3051fdf9",
   "metadata": {},
   "outputs": [],
   "source": [
    "def CalcModule(m):\n",
    "    f0 = f_l(m)\n",
    "    mn = m\n",
    "    \n",
    "    while not abs(f0)<(10*(10**-10)):\n",
    "        fx = f_l(mn)\n",
    "        fdx = f_dm_l(mn)\n",
    "        mn = m - fx/fdx\n",
    "        m = mn\n",
    "        f0 = fx\n",
    "    \n",
    "    return mn"
   ]
  },
  {
   "cell_type": "code",
   "execution_count": 33,
   "id": "9c298b1a",
   "metadata": {},
   "outputs": [
    {
     "name": "stdout",
     "output_type": "stream",
     "text": [
      "First Module according to calculation is 7.0461 mm\n"
     ]
    }
   ],
   "source": [
    "m0 = 10\n",
    "m = CalcModule(m0)\n",
    "print('First Module according to calculation is {one}'.format(one=round(m,4))+\" mm\")"
   ]
  },
  {
   "cell_type": "markdown",
   "id": "007ae6e5",
   "metadata": {},
   "source": [
    "#### List of Preffered Modules"
   ]
  },
  {
   "cell_type": "code",
   "execution_count": 34,
   "id": "646f9163",
   "metadata": {},
   "outputs": [],
   "source": [
    "m_list = [0.1,0.2,0.3,0.5,0.6,0.8,1,1.25,1.5,2,2.5,3,4,5,6,8,10,12,16,20,25,32,40,50]"
   ]
  },
  {
   "cell_type": "markdown",
   "id": "fde5bb71",
   "metadata": {},
   "source": [
    "#### Calculates Preffered Module"
   ]
  },
  {
   "cell_type": "code",
   "execution_count": 35,
   "id": "aa3e2bc5",
   "metadata": {},
   "outputs": [
    {
     "name": "stdout",
     "output_type": "stream",
     "text": [
      "Prefered Module is 8 mm\n"
     ]
    }
   ],
   "source": [
    "for n in range(len(m_list)):\n",
    "    m_diff = m_list[n]-m\n",
    "    if m_diff>=0:\n",
    "        ind = n\n",
    "        break\n",
    "\n",
    "mf = m_list[ind]\n",
    "print('Prefered Module is',mf,\"mm\")"
   ]
  },
  {
   "cell_type": "code",
   "execution_count": 36,
   "id": "6f6035a1",
   "metadata": {},
   "outputs": [
    {
     "name": "stdout",
     "output_type": "stream",
     "text": [
      "Velocity of gear is  22.6195 m/sec\n"
     ]
    }
   ],
   "source": [
    "v = v_l(mf)\n",
    "print('Velocity of gear is ',round(v,4),\"m/sec\")"
   ]
  },
  {
   "cell_type": "markdown",
   "id": "1de41332",
   "metadata": {},
   "source": [
    "#### Calculating Actual loading with Buckingham Equation"
   ]
  },
  {
   "cell_type": "markdown",
   "id": "51981ead",
   "metadata": {},
   "source": [
    "#### Database for Gear error"
   ]
  },
  {
   "cell_type": "code",
   "execution_count": 37,
   "id": "dc9dcab9",
   "metadata": {},
   "outputs": [
    {
     "data": {
      "text/html": [
       "<div>\n",
       "<style scoped>\n",
       "    .dataframe tbody tr th:only-of-type {\n",
       "        vertical-align: middle;\n",
       "    }\n",
       "\n",
       "    .dataframe tbody tr th {\n",
       "        vertical-align: top;\n",
       "    }\n",
       "\n",
       "    .dataframe thead th {\n",
       "        text-align: right;\n",
       "    }\n",
       "</style>\n",
       "<table border=\"1\" class=\"dataframe\">\n",
       "  <thead>\n",
       "    <tr style=\"text-align: right;\">\n",
       "      <th></th>\n",
       "      <th>Grade</th>\n",
       "      <th>b0</th>\n",
       "      <th>b1</th>\n",
       "    </tr>\n",
       "  </thead>\n",
       "  <tbody>\n",
       "    <tr>\n",
       "      <th>0</th>\n",
       "      <td>1</td>\n",
       "      <td>0.80</td>\n",
       "      <td>0.06</td>\n",
       "    </tr>\n",
       "    <tr>\n",
       "      <th>1</th>\n",
       "      <td>2</td>\n",
       "      <td>1.25</td>\n",
       "      <td>0.10</td>\n",
       "    </tr>\n",
       "    <tr>\n",
       "      <th>2</th>\n",
       "      <td>3</td>\n",
       "      <td>2.00</td>\n",
       "      <td>0.16</td>\n",
       "    </tr>\n",
       "    <tr>\n",
       "      <th>3</th>\n",
       "      <td>4</td>\n",
       "      <td>3.20</td>\n",
       "      <td>0.25</td>\n",
       "    </tr>\n",
       "    <tr>\n",
       "      <th>4</th>\n",
       "      <td>5</td>\n",
       "      <td>5.00</td>\n",
       "      <td>0.40</td>\n",
       "    </tr>\n",
       "    <tr>\n",
       "      <th>5</th>\n",
       "      <td>6</td>\n",
       "      <td>8.00</td>\n",
       "      <td>0.63</td>\n",
       "    </tr>\n",
       "    <tr>\n",
       "      <th>6</th>\n",
       "      <td>7</td>\n",
       "      <td>11.00</td>\n",
       "      <td>0.90</td>\n",
       "    </tr>\n",
       "    <tr>\n",
       "      <th>7</th>\n",
       "      <td>8</td>\n",
       "      <td>16.00</td>\n",
       "      <td>1.25</td>\n",
       "    </tr>\n",
       "    <tr>\n",
       "      <th>8</th>\n",
       "      <td>9</td>\n",
       "      <td>22.00</td>\n",
       "      <td>1.80</td>\n",
       "    </tr>\n",
       "    <tr>\n",
       "      <th>9</th>\n",
       "      <td>10</td>\n",
       "      <td>32.00</td>\n",
       "      <td>2.50</td>\n",
       "    </tr>\n",
       "    <tr>\n",
       "      <th>10</th>\n",
       "      <td>11</td>\n",
       "      <td>45.00</td>\n",
       "      <td>3.55</td>\n",
       "    </tr>\n",
       "    <tr>\n",
       "      <th>11</th>\n",
       "      <td>12</td>\n",
       "      <td>63.00</td>\n",
       "      <td>5.00</td>\n",
       "    </tr>\n",
       "  </tbody>\n",
       "</table>\n",
       "</div>"
      ],
      "text/plain": [
       "    Grade     b0    b1\n",
       "0       1   0.80  0.06\n",
       "1       2   1.25  0.10\n",
       "2       3   2.00  0.16\n",
       "3       4   3.20  0.25\n",
       "4       5   5.00  0.40\n",
       "5       6   8.00  0.63\n",
       "6       7  11.00  0.90\n",
       "7       8  16.00  1.25\n",
       "8       9  22.00  1.80\n",
       "9      10  32.00  2.50\n",
       "10     11  45.00  3.55\n",
       "11     12  63.00  5.00"
      ]
     },
     "execution_count": 37,
     "metadata": {},
     "output_type": "execute_result"
    }
   ],
   "source": [
    "E = pd.read_csv(\"D:/Gear Design Project Data/Gear Error.csv\")\n",
    "E"
   ]
  },
  {
   "cell_type": "code",
   "execution_count": 38,
   "id": "3efaf0b4",
   "metadata": {},
   "outputs": [],
   "source": [
    "b0 = float(E[E.Grade==Grade][\"b0\"])\n",
    "b1 = float(E[E.Grade==Grade][\"b1\"])"
   ]
  },
  {
   "cell_type": "markdown",
   "id": "fff155e6",
   "metadata": {},
   "source": [
    "#### Calculating  Gear Errors"
   ]
  },
  {
   "cell_type": "code",
   "execution_count": 39,
   "id": "0917a628",
   "metadata": {},
   "outputs": [],
   "source": [
    "def Buckingham(m):\n",
    "    #for Pinion\n",
    "    dp = m*zp\n",
    "    phip = m + 0.25*(dp**0.5)\n",
    "    ep = b0 + b1*phip\n",
    "\n",
    "    #for gear\n",
    "    dg = m*zg\n",
    "    phig = m + 0.25*(dg**0.5)\n",
    "    eg = b0 + b1*phig\n",
    "\n",
    "    #total\n",
    "    e = (ep+eg)*(10**-3)\n",
    "    \n",
    "    k = 0.111 # Constant for 20 degree full depth Gear\n",
    "    C = k/((1/Ep)+(1/Eg)) # Deformation Factor in N/mm^2\n",
    "    b = 10*m # Face width of gears\n",
    "    \n",
    "    v = v_l(m)\n",
    "    Pt = P/v\n",
    "    a = 21*v\n",
    "    d = C*e*b + Pt\n",
    "    Pd = (a*d)/(a+(d**0.5))\n",
    "    Ptotal = Pt*Cs + Pd\n",
    "    \n",
    "    Sb = m*b*(Sut/3)*Y\n",
    "    \n",
    "    fs_a = Sb/Ptotal\n",
    "\n",
    "    return Ptotal,fs_a"
   ]
  },
  {
   "cell_type": "markdown",
   "id": "f00b9ac0",
   "metadata": {},
   "source": [
    "#### Calculation of Total Load using Buckingham equation and Factor of Safety"
   ]
  },
  {
   "cell_type": "code",
   "execution_count": 40,
   "id": "d3d764d1",
   "metadata": {},
   "outputs": [
    {
     "name": "stdout",
     "output_type": "stream",
     "text": [
      "Total Load is 15817.9358\n",
      "Factor of Safety with Dynamic Load is 2.5005\n",
      "Module seleced for gear is 8 mm\n"
     ]
    }
   ],
   "source": [
    "Ptotal, fs_a = Buckingham(mf)\n",
    "\n",
    "while fs_a<fs:\n",
    "    mf = m_list[ind+1]\n",
    "    ind = ind+1\n",
    "    Ptotal , fs_a = Buckingham(mf)\n",
    "        \n",
    "print(\"Total Load is {one}\".format(one = round(Ptotal,4)))\n",
    "print(\"Factor of Safety with Dynamic Load is {one}\".format(one = round(fs_a,4)))\n",
    "print(\"Module seleced for gear is {one}\".format(one=mf)+\" mm\")"
   ]
  },
  {
   "cell_type": "markdown",
   "id": "ae0fddef",
   "metadata": {},
   "source": [
    "#### Calculating Brinnel Hardness Number with Wear equation"
   ]
  },
  {
   "cell_type": "code",
   "execution_count": 41,
   "id": "bf6a9765",
   "metadata": {},
   "outputs": [
    {
     "name": "stdout",
     "output_type": "stream",
     "text": [
      "Brinnel Hardness Number for gear should be 358.79\n"
     ]
    }
   ],
   "source": [
    "#Sb = b*Q*Dp*k\n",
    "b =10*mf\n",
    "dp = mf*zp\n",
    "Q = (2*zg)/(zp+zg)\n",
    "k = Ptotal*fs/(b*Q*dp)\n",
    "BHN = 100*(k/0.16)**0.5\n",
    "print(\"Brinnel Hardness Number for gear should be {one}\".format(one=round(BHN,2)))"
   ]
  },
  {
   "cell_type": "markdown",
   "id": "6880f238",
   "metadata": {},
   "source": [
    "# Summarizing all design Parameters"
   ]
  },
  {
   "cell_type": "code",
   "execution_count": 42,
   "id": "f2f992bf",
   "metadata": {},
   "outputs": [
    {
     "name": "stdout",
     "output_type": "stream",
     "text": [
      "Number of teeth on pinion is 18\n",
      "Number of teeth on gear is 36\n",
      "Module selected for gear is 8 mm\n",
      "Face width of gear is 80 mm\n",
      "Velocity of gears is 22.6195 m/sec\n",
      "Total Load on gear is 15817.9358 N\n",
      "Actual Factor of Safety in Bending Strength is 2.5005\n",
      "Brinnel Hardness number for gear should be 358.79\n"
     ]
    }
   ],
   "source": [
    "b = 10*mf\n",
    "v = v_l(mf)\n",
    "print(\"Number of teeth on pinion is {one}\".format(one=zp))\n",
    "print(\"Number of teeth on gear is {one}\".format(one=zg))\n",
    "print(\"Module selected for gear is {one}\".format(one=mf)+\" mm\")\n",
    "print(\"Face width of gear is {one}\".format(one=b)+\" mm\")\n",
    "print(\"Velocity of gears is {one}\".format(one=round(v,4))+\" m/sec\")\n",
    "print(\"Total Load on gear is {one}\".format(one=round(Ptotal,4))+\" N\")\n",
    "print(\"Actual Factor of Safety in Bending Strength is {one}\".format(one=round(fs_a,4)))\n",
    "print(\"Brinnel Hardness number for gear should be {one}\".format(one=round(BHN,2)))"
   ]
  },
  {
   "cell_type": "code",
   "execution_count": null,
   "id": "2ede188b",
   "metadata": {},
   "outputs": [],
   "source": []
  },
  {
   "cell_type": "code",
   "execution_count": null,
   "id": "fb41acbc",
   "metadata": {},
   "outputs": [],
   "source": []
  }
 ],
 "metadata": {
  "kernelspec": {
   "display_name": "Python 3 (ipykernel)",
   "language": "python",
   "name": "python3"
  },
  "language_info": {
   "codemirror_mode": {
    "name": "ipython",
    "version": 3
   },
   "file_extension": ".py",
   "mimetype": "text/x-python",
   "name": "python",
   "nbconvert_exporter": "python",
   "pygments_lexer": "ipython3",
   "version": "3.9.7"
  }
 },
 "nbformat": 4,
 "nbformat_minor": 5
}
